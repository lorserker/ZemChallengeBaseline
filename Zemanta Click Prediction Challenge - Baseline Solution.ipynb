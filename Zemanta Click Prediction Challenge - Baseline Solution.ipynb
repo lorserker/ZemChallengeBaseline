{
 "cells": [
  {
   "cell_type": "markdown",
   "metadata": {
    "collapsed": true
   },
   "source": [
    "# Zemanta Click Prediction Challenge - Baseline Solution"
   ]
  },
  {
   "cell_type": "markdown",
   "metadata": {},
   "source": [
    "In this notebook we describe a simple solution for Zemanta's click prediction challenge. We train a logistic regression model on three features (creative_id, zip code, domain) and evaluate by the area under the ROC curve. Our proposed baseline model scores 0.75 AUC on the test data"
   ]
  },
  {
   "cell_type": "code",
   "execution_count": 88,
   "metadata": {
    "collapsed": false
   },
   "outputs": [],
   "source": [
    "import numpy as np\n",
    "import pandas as pd\n",
    "from sklearn.feature_extraction import DictVectorizer\n",
    "from sklearn.linear_model import LogisticRegression\n",
    "from sklearn.metrics import roc_auc_score, roc_curve"
   ]
  },
  {
   "cell_type": "markdown",
   "metadata": {},
   "source": [
    "We load the data into pandas DataFrames. We also make sure that we treat the **creative_id** and **zip** as strings; this way the missing vlaues will be converted to the string **'nan'**, which is ok."
   ]
  },
  {
   "cell_type": "code",
   "execution_count": 43,
   "metadata": {
    "collapsed": false
   },
   "outputs": [],
   "source": [
    "df_train = pd.read_table('training_set.tsv.gz')\n",
    "df_test = pd.read_table('test_set.tsv.gz', header=None)\n",
    "df_test.columns = df_train.columns[1:]\n",
    "df_train['creative_id'] = df_train['creative_id'].astype(str)\n",
    "df_train['zip'] = df_train['zip'].astype(str)\n",
    "df_train['domain'] = df_train['domain'].astype(str)\n",
    "df_test['creative_id'] = df_test['creative_id'].astype(str)\n",
    "df_test['zip'] = df_test['zip'].astype(str)\n",
    "df_test['domain'] = df_test['domain'].astype(str)"
   ]
  },
  {
   "cell_type": "markdown",
   "metadata": {},
   "source": [
    "We have four columns: creative_id, zip, domain and page. The training data has an additional column which shows whether there was a click or not (1=click, 0=no click)"
   ]
  },
  {
   "cell_type": "code",
   "execution_count": 44,
   "metadata": {
    "collapsed": false
   },
   "outputs": [
    {
     "data": {
      "text/html": [
       "<div style=\"max-height:1000px;max-width:1500px;overflow:auto;\">\n",
       "<table border=\"1\" class=\"dataframe\">\n",
       "  <thead>\n",
       "    <tr style=\"text-align: right;\">\n",
       "      <th></th>\n",
       "      <th>click</th>\n",
       "      <th>creative_id</th>\n",
       "      <th>zip</th>\n",
       "      <th>domain</th>\n",
       "      <th>page</th>\n",
       "    </tr>\n",
       "  </thead>\n",
       "  <tbody>\n",
       "    <tr>\n",
       "      <th>0</th>\n",
       "      <td>0</td>\n",
       "      <td>2522</td>\n",
       "      <td>70611</td>\n",
       "      <td>townhall.com</td>\n",
       "      <td>http://townhall.com/</td>\n",
       "    </tr>\n",
       "    <tr>\n",
       "      <th>1</th>\n",
       "      <td>0</td>\n",
       "      <td>2522</td>\n",
       "      <td>98022</td>\n",
       "      <td>townhall.com</td>\n",
       "      <td>http://townhall.com/columnists/walterewilliams...</td>\n",
       "    </tr>\n",
       "    <tr>\n",
       "      <th>2</th>\n",
       "      <td>0</td>\n",
       "      <td>2522</td>\n",
       "      <td>36201</td>\n",
       "      <td>stars.topix.com</td>\n",
       "      <td>http://stars.topix.com/slideshow/15207/slide20</td>\n",
       "    </tr>\n",
       "    <tr>\n",
       "      <th>3</th>\n",
       "      <td>0</td>\n",
       "      <td>2522</td>\n",
       "      <td>73538</td>\n",
       "      <td>stars.topix.com</td>\n",
       "      <td>http://stars.topix.com/slideshow/14933/slide24</td>\n",
       "    </tr>\n",
       "    <tr>\n",
       "      <th>4</th>\n",
       "      <td>0</td>\n",
       "      <td>64</td>\n",
       "      <td>44646</td>\n",
       "      <td>townhall.com</td>\n",
       "      <td>http://townhall.com/columnists/kenblackwell/20...</td>\n",
       "    </tr>\n",
       "  </tbody>\n",
       "</table>\n",
       "</div>"
      ],
      "text/plain": [
       "   click creative_id    zip           domain  \\\n",
       "0      0        2522  70611     townhall.com   \n",
       "1      0        2522  98022     townhall.com   \n",
       "2      0        2522  36201  stars.topix.com   \n",
       "3      0        2522  73538  stars.topix.com   \n",
       "4      0          64  44646     townhall.com   \n",
       "\n",
       "                                                page  \n",
       "0                               http://townhall.com/  \n",
       "1  http://townhall.com/columnists/walterewilliams...  \n",
       "2     http://stars.topix.com/slideshow/15207/slide20  \n",
       "3     http://stars.topix.com/slideshow/14933/slide24  \n",
       "4  http://townhall.com/columnists/kenblackwell/20...  "
      ]
     },
     "execution_count": 44,
     "metadata": {},
     "output_type": "execute_result"
    }
   ],
   "source": [
    "df_train[:5]"
   ]
  },
  {
   "cell_type": "code",
   "execution_count": 45,
   "metadata": {
    "collapsed": false
   },
   "outputs": [
    {
     "data": {
      "text/html": [
       "<div style=\"max-height:1000px;max-width:1500px;overflow:auto;\">\n",
       "<table border=\"1\" class=\"dataframe\">\n",
       "  <thead>\n",
       "    <tr style=\"text-align: right;\">\n",
       "      <th></th>\n",
       "      <th>creative_id</th>\n",
       "      <th>zip</th>\n",
       "      <th>domain</th>\n",
       "      <th>page</th>\n",
       "    </tr>\n",
       "  </thead>\n",
       "  <tbody>\n",
       "    <tr>\n",
       "      <th>0</th>\n",
       "      <td>3924</td>\n",
       "      <td>44313</td>\n",
       "      <td>examiner.com</td>\n",
       "      <td>http://www.examiner.com/article/family-guy-sea...</td>\n",
       "    </tr>\n",
       "    <tr>\n",
       "      <th>1</th>\n",
       "      <td>64</td>\n",
       "      <td>22003</td>\n",
       "      <td>www.pressroomvip.com</td>\n",
       "      <td>http://www.pressroomvip.com/15-richest-nba-pla...</td>\n",
       "    </tr>\n",
       "    <tr>\n",
       "      <th>2</th>\n",
       "      <td>3511</td>\n",
       "      <td>60544</td>\n",
       "      <td>boatingmag.com</td>\n",
       "      <td>http://www.boatingmag.com/gear/boatinglab-test...</td>\n",
       "    </tr>\n",
       "    <tr>\n",
       "      <th>3</th>\n",
       "      <td>1549</td>\n",
       "      <td>34145</td>\n",
       "      <td>redorbit.com</td>\n",
       "      <td>http://www.philstar.com/entertainment/2015/03/...</td>\n",
       "    </tr>\n",
       "    <tr>\n",
       "      <th>4</th>\n",
       "      <td>3974</td>\n",
       "      <td>99503</td>\n",
       "      <td>cycleworld.com</td>\n",
       "      <td>http://www.cycleworld.com/2015/02/24/h-d-screa...</td>\n",
       "    </tr>\n",
       "  </tbody>\n",
       "</table>\n",
       "</div>"
      ],
      "text/plain": [
       "  creative_id    zip                domain  \\\n",
       "0        3924  44313          examiner.com   \n",
       "1          64  22003  www.pressroomvip.com   \n",
       "2        3511  60544        boatingmag.com   \n",
       "3        1549  34145          redorbit.com   \n",
       "4        3974  99503        cycleworld.com   \n",
       "\n",
       "                                                page  \n",
       "0  http://www.examiner.com/article/family-guy-sea...  \n",
       "1  http://www.pressroomvip.com/15-richest-nba-pla...  \n",
       "2  http://www.boatingmag.com/gear/boatinglab-test...  \n",
       "3  http://www.philstar.com/entertainment/2015/03/...  \n",
       "4  http://www.cycleworld.com/2015/02/24/h-d-screa...  "
      ]
     },
     "execution_count": 45,
     "metadata": {},
     "output_type": "execute_result"
    }
   ],
   "source": [
    "df_test[:5]"
   ]
  },
  {
   "cell_type": "markdown",
   "metadata": {},
   "source": [
    "We are going to train a click prediction model by logistic regression, using the features: creative_id, zip and domain.\n",
    "\n",
    "All our features are nominal string features, we need to encode them to binary features using DictVectorizer. DictVectorizer expects a list of dictionaries as input, so we convert our dataframes to list of dictienaries like such:"
   ]
  },
  {
   "cell_type": "code",
   "execution_count": 52,
   "metadata": {
    "collapsed": false
   },
   "outputs": [
    {
     "data": {
      "text/plain": [
       "[{'creative_id': '2522', 'domain': 'townhall.com', 'zip': '70611'},\n",
       " {'creative_id': '2522', 'domain': 'townhall.com', 'zip': '98022'},\n",
       " {'creative_id': '2522', 'domain': 'stars.topix.com', 'zip': '36201'},\n",
       " {'creative_id': '2522', 'domain': 'stars.topix.com', 'zip': '73538'},\n",
       " {'creative_id': '64', 'domain': 'townhall.com', 'zip': '44646'}]"
      ]
     },
     "execution_count": 52,
     "metadata": {},
     "output_type": "execute_result"
    }
   ],
   "source": [
    "features = ['creative_id', 'zip', 'domain']\n",
    "df_train[features][:5].to_dict('records')"
   ]
  },
  {
   "cell_type": "code",
   "execution_count": 54,
   "metadata": {
    "collapsed": false
   },
   "outputs": [],
   "source": [
    "vectorizer = DictVectorizer()\n",
    "X_train = vectorizer.fit_transform(df_train[features].to_dict('records'))\n",
    "X_test = vectorizer.transform(df_test[features].to_dict('records'))"
   ]
  },
  {
   "cell_type": "markdown",
   "metadata": {},
   "source": [
    "Now our data are represented as sparse matrixes. We notice that after binarization we converted the original three nominal features into 28226 binary features."
   ]
  },
  {
   "cell_type": "code",
   "execution_count": 71,
   "metadata": {
    "collapsed": false
   },
   "outputs": [
    {
     "data": {
      "text/plain": [
       "(2447147, 28226)"
      ]
     },
     "execution_count": 71,
     "metadata": {},
     "output_type": "execute_result"
    }
   ],
   "source": [
    "X_train.shape"
   ]
  },
  {
   "cell_type": "code",
   "execution_count": 70,
   "metadata": {
    "collapsed": false
   },
   "outputs": [
    {
     "data": {
      "text/plain": [
       "(546010, 28226)"
      ]
     },
     "execution_count": 70,
     "metadata": {},
     "output_type": "execute_result"
    }
   ],
   "source": [
    "X_test.shape"
   ]
  },
  {
   "cell_type": "markdown",
   "metadata": {},
   "source": [
    "We get the training labels from `df_train['click']` and the test label from the file `answers.txt`"
   ]
  },
  {
   "cell_type": "code",
   "execution_count": 73,
   "metadata": {
    "collapsed": true
   },
   "outputs": [],
   "source": [
    "y_train = df_train['click'].values\n",
    "y_test = np.loadtxt('answers.txt')"
   ]
  },
  {
   "cell_type": "code",
   "execution_count": 74,
   "metadata": {
    "collapsed": false
   },
   "outputs": [
    {
     "data": {
      "text/plain": [
       "LogisticRegression(C=1.0, class_weight=None, dual=False, fit_intercept=True,\n",
       "          intercept_scaling=1, penalty='l2', random_state=None, tol=0.0001)"
      ]
     },
     "execution_count": 74,
     "metadata": {},
     "output_type": "execute_result"
    }
   ],
   "source": [
    "model = LogisticRegression()\n",
    "model.fit(X_train, y_train)"
   ]
  },
  {
   "cell_type": "markdown",
   "metadata": {},
   "source": [
    "After having trained a logistic regression model we predict the clicks for the test set"
   ]
  },
  {
   "cell_type": "code",
   "execution_count": 79,
   "metadata": {
    "collapsed": false
   },
   "outputs": [
    {
     "data": {
      "text/plain": [
       "array([[  9.98512449e-01,   1.48755146e-03],\n",
       "       [  9.96427599e-01,   3.57240122e-03],\n",
       "       [  9.93855459e-01,   6.14454138e-03],\n",
       "       [  9.99067792e-01,   9.32207534e-04],\n",
       "       [  9.93501549e-01,   6.49845146e-03]])"
      ]
     },
     "execution_count": 79,
     "metadata": {},
     "output_type": "execute_result"
    }
   ],
   "source": [
    "y_pred = model.predict_proba(X_test)\n",
    "y_pred[:5]"
   ]
  },
  {
   "cell_type": "markdown",
   "metadata": {},
   "source": [
    "this gives us two columns, the first one gives the probability for class 0 (i.e no click) and the second one gives the probability for class 1 (i.e click). We are interested in the probability of click, so we discard the first column"
   ]
  },
  {
   "cell_type": "code",
   "execution_count": 80,
   "metadata": {
    "collapsed": true
   },
   "outputs": [],
   "source": [
    "y_pred = y_pred[:,1]"
   ]
  },
  {
   "cell_type": "code",
   "execution_count": 83,
   "metadata": {
    "collapsed": false
   },
   "outputs": [
    {
     "data": {
      "text/plain": [
       "0.75573956965299394"
      ]
     },
     "execution_count": 83,
     "metadata": {},
     "output_type": "execute_result"
    }
   ],
   "source": [
    "roc_auc_score(y_test, y_pred)"
   ]
  },
  {
   "cell_type": "markdown",
   "metadata": {},
   "source": [
    "The AUC score is 75%, not bad for the first try :)"
   ]
  },
  {
   "cell_type": "markdown",
   "metadata": {},
   "source": [
    "If we plot the ROC curve, it looks like this:"
   ]
  },
  {
   "cell_type": "code",
   "execution_count": 94,
   "metadata": {
    "collapsed": false
   },
   "outputs": [
    {
     "data": {
      "image/png": "[encoded data removed]",
      "text/plain": [
       "<matplotlib.figure.Figure at 0x7fb709f33490>"
      ]
     },
     "metadata": {},
     "output_type": "display_data"
    }
   ],
   "source": [
    "fpr, tpr, _ = roc_curve(y_test, y_pred, pos_label=1)\n",
    "\n",
    "from matplotlib import pyplot as plt\n",
    "plt.plot(fpr, tpr);\n",
    "plt.plot([0, 1], [0, 1], 'k--');"
   ]
  },
  {
   "cell_type": "markdown",
   "metadata": {},
   "source": [
    "### Ideas for improving the baseline model"
   ]
  },
  {
   "cell_type": "markdown",
   "metadata": {},
   "source": [
    "* tuning the parameters of the model (we just used the default value of C=1.0)\n",
    "* clustering of zip codes based on demographic data, and using the cluster id as an additional feature\n",
    "* using the page url as well. To use the page directly will be probably too sparse, but we could extract many interesting features from the urls\n",
    "* trying other machine learning algorithms and ensemble methods"
   ]
  }
 ],
 "metadata": {
  "kernelspec": {
   "display_name": "Python 2",
   "language": "python",
   "name": "python2"
  },
  "language_info": {
   "codemirror_mode": {
    "name": "ipython",
    "version": 2
   },
   "file_extension": ".py",
   "mimetype": "text/x-python",
   "name": "python",
   "nbconvert_exporter": "python",
   "pygments_lexer": "ipython2",
   "version": "2.7.10"
  }
 },
 "nbformat": 4,
 "nbformat_minor": 0
}
